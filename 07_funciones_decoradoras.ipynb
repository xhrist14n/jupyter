{
 "cells": [
  {
   "cell_type": "code",
   "execution_count": 2,
   "metadata": {},
   "outputs": [
    {
     "data": {
      "text/plain": [
       "<function __main__.hola.<locals>.bienvenido()>"
      ]
     },
     "execution_count": 2,
     "metadata": {},
     "output_type": "execute_result"
    }
   ],
   "source": [
    "def hola():\n",
    "    def bienvenido():\n",
    "        return \"Hola!\"\n",
    "    return bienvenido\n",
    "hola()"
   ]
  },
  {
   "cell_type": "code",
   "execution_count": 4,
   "metadata": {},
   "outputs": [
    {
     "data": {
      "text/plain": [
       "<function __main__.hola.<locals>.bienvenido()>"
      ]
     },
     "execution_count": 4,
     "metadata": {},
     "output_type": "execute_result"
    }
   ],
   "source": [
    "lista= [1,2,3]\n",
    "def hola():\n",
    "    numero = 50\n",
    "    def bienvenido():\n",
    "        return \"Hola!\"\n",
    "    #print(locals())\n",
    "    #print(globals())\n",
    "    return bienvenido\n",
    "hola()"
   ]
  },
  {
   "cell_type": "code",
   "execution_count": 5,
   "metadata": {},
   "outputs": [
    {
     "data": {
      "text/plain": [
       "'Hola!'"
      ]
     },
     "execution_count": 5,
     "metadata": {},
     "output_type": "execute_result"
    }
   ],
   "source": [
    "algo = hola()\n",
    "algo()"
   ]
  },
  {
   "cell_type": "code",
   "execution_count": 1,
   "metadata": {},
   "outputs": [
    {
     "data": {
      "text/plain": [
       "dict_values(['__main__', 'Automatically created module for IPython interactive environment', None, None, None, <module 'builtins' (built-in)>, <module 'builtins' (built-in)>, ['', 'globals().values()'], {}, ['/home/vagrant/projects/jupyter'], ['', 'globals().values()'], {}, <bound method InteractiveShell.get_ipython of <ipykernel.zmqshell.ZMQInteractiveShell object at 0x7fd607390da0>>, <IPython.core.autocall.ZMQExitAutocall object at 0x7fd60737bef0>, <IPython.core.autocall.ZMQExitAutocall object at 0x7fd60737bef0>, '', '', '', '', '', '', 'globals().values()'])"
      ]
     },
     "execution_count": 1,
     "metadata": {},
     "output_type": "execute_result"
    }
   ],
   "source": [
    "globals().values()"
   ]
  },
  {
   "cell_type": "code",
   "execution_count": 3,
   "metadata": {},
   "outputs": [],
   "source": [
    "def hola():\n",
    "    return \"Hola\""
   ]
  },
  {
   "cell_type": "code",
   "execution_count": 4,
   "metadata": {},
   "outputs": [],
   "source": [
    "def test(funcion):\n",
    "    print(funcion())"
   ]
  },
  {
   "cell_type": "code",
   "execution_count": 5,
   "metadata": {},
   "outputs": [
    {
     "name": "stdout",
     "output_type": "stream",
     "text": [
      "Hola\n"
     ]
    }
   ],
   "source": [
    "test(hola)"
   ]
  },
  {
   "cell_type": "code",
   "execution_count": 2,
   "metadata": {},
   "outputs": [
    {
     "name": "stdout",
     "output_type": "stream",
     "text": [
      "\tSe esta a punto de ejecutar la funcion:  hola\n",
      "Hola\n",
      "\tSe esta ha finalizado la funcion:  hola\n"
     ]
    }
   ],
   "source": [
    "def hola():\n",
    "    print(\"Hola\")\n",
    "\n",
    "def adios():\n",
    "    print(\"Adios\")\n",
    "\n",
    "def monitorizar(funcion):\n",
    "    def decorar():\n",
    "        print(\"\\tSe esta a punto de ejecutar la funcion: \",funcion.__name__)\n",
    "        funcion()\n",
    "        \n",
    "        print(\"\\tSe esta ha finalizado la funcion: \",funcion.__name__)\n",
    "    return decorar\n",
    "\n",
    "monitorizar(hola)()"
   ]
  },
  {
   "cell_type": "code",
   "execution_count": 3,
   "metadata": {},
   "outputs": [
    {
     "name": "stdout",
     "output_type": "stream",
     "text": [
      "Hola\n"
     ]
    }
   ],
   "source": [
    "hola()\n"
   ]
  },
  {
   "cell_type": "code",
   "execution_count": 4,
   "metadata": {},
   "outputs": [],
   "source": [
    "@monitorizar\n",
    "def hola():\n",
    "    print(\"Hola\")"
   ]
  },
  {
   "cell_type": "code",
   "execution_count": 5,
   "metadata": {},
   "outputs": [
    {
     "name": "stdout",
     "output_type": "stream",
     "text": [
      "\tSe esta a punto de ejecutar la funcion:  hola\n",
      "Hola\n",
      "\tSe esta ha finalizado la funcion:  hola\n"
     ]
    }
   ],
   "source": [
    "hola()"
   ]
  },
  {
   "cell_type": "code",
   "execution_count": 7,
   "metadata": {},
   "outputs": [],
   "source": [
    "def monitorizar_args(funcion):\n",
    "    def decorar(*args,**kwargs):\n",
    "        print(\"\\tSe esta a punto de ejecutar la funcion: \",funcion.__name__)\n",
    "        funcion(*args,**kwargs)\n",
    "        \n",
    "        print(\"\\tSe esta ha finalizado la funcion: \",funcion.__name__)\n",
    "    return decorar"
   ]
  },
  {
   "cell_type": "code",
   "execution_count": 8,
   "metadata": {},
   "outputs": [],
   "source": [
    "@monitorizar_args\n",
    "def hola(nombre):\n",
    "    print(\"Hola {}\".format(nombre))\n",
    "@monitorizar_args\n",
    "def adios(nombre):\n",
    "    print(\"Adios {}\".format(nombre))    "
   ]
  },
  {
   "cell_type": "code",
   "execution_count": 9,
   "metadata": {},
   "outputs": [
    {
     "name": "stdout",
     "output_type": "stream",
     "text": [
      "\tSe esta a punto de ejecutar la funcion:  hola\n",
      "Hola quien\n",
      "\tSe esta ha finalizado la funcion:  hola\n"
     ]
    }
   ],
   "source": [
    "hola(\"quien\")"
   ]
  }
 ],
 "metadata": {
  "kernelspec": {
   "display_name": "Python 3",
   "language": "python",
   "name": "python3"
  },
  "language_info": {
   "codemirror_mode": {
    "name": "ipython",
    "version": 3
   },
   "file_extension": ".py",
   "mimetype": "text/x-python",
   "name": "python",
   "nbconvert_exporter": "python",
   "pygments_lexer": "ipython3",
   "version": "3.6.7"
  }
 },
 "nbformat": 4,
 "nbformat_minor": 2
}
