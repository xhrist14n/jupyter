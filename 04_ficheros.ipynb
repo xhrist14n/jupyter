{
 "cells": [
  {
   "cell_type": "code",
   "execution_count": 9,
   "metadata": {},
   "outputs": [],
   "source": [
    "fichero = open('archivo.txt',\"a\")\n",
    "fichero.write(\"\\nHola Mundo\")\n",
    "fichero.close()\n",
    "del(fichero)\n"
   ]
  },
  {
   "cell_type": "code",
   "execution_count": 14,
   "metadata": {},
   "outputs": [
    {
     "name": "stdout",
     "output_type": "stream",
     "text": [
      "Hola Mundo\n",
      "\n",
      "Hola Mundo\n",
      "\n",
      "Hola Mundo\n",
      "\n",
      "Hola Mundo\n",
      "\n",
      "Hola Mundo\n",
      "\n",
      "Hola Mundo\n",
      "\n",
      "Hola Mundo\n",
      "\n",
      "Hola Mundo\n",
      "\n",
      "Hola Mundo\n"
     ]
    }
   ],
   "source": [
    "nombre_archivo = 'archivo.txt'\n",
    "\n",
    "with open(nombre_archivo,'r')  as fichero:\n",
    "    for linea in fichero:\n",
    "        print(linea)\n",
    "fichero.close()\n",
    "del(fichero)"
   ]
  },
  {
   "cell_type": "code",
   "execution_count": 27,
   "metadata": {},
   "outputs": [],
   "source": [
    "fichero = open(nombre_archivo,'r')\n",
    "fichero.seek(10)\n",
    "data = fichero.read(7)\n",
    "fichero.close()\n",
    "del(fichero)"
   ]
  },
  {
   "cell_type": "code",
   "execution_count": 28,
   "metadata": {},
   "outputs": [
    {
     "name": "stdout",
     "output_type": "stream",
     "text": [
      "\n",
      "Hola M\n"
     ]
    }
   ],
   "source": [
    "print(data)\n"
   ]
  },
  {
   "cell_type": "code",
   "execution_count": 30,
   "metadata": {},
   "outputs": [],
   "source": [
    "import pickle\n"
   ]
  },
  {
   "cell_type": "code",
   "execution_count": 32,
   "metadata": {},
   "outputs": [],
   "source": [
    "lista = [1,2,3,4,5]"
   ]
  },
  {
   "cell_type": "code",
   "execution_count": 38,
   "metadata": {},
   "outputs": [],
   "source": [
    "fichero = open('lista.pckl','wb')\n",
    "pickle.dump(lista,fichero)"
   ]
  },
  {
   "cell_type": "code",
   "execution_count": null,
   "metadata": {},
   "outputs": [],
   "source": []
  },
  {
   "cell_type": "code",
   "execution_count": 39,
   "metadata": {},
   "outputs": [],
   "source": [
    "fichero.close()\n",
    "del(fichero)"
   ]
  },
  {
   "cell_type": "code",
   "execution_count": 41,
   "metadata": {},
   "outputs": [],
   "source": [
    "fichero = open('lista.pckl','rb')"
   ]
  },
  {
   "cell_type": "code",
   "execution_count": 42,
   "metadata": {},
   "outputs": [],
   "source": [
    "lista = pickle.load(fichero)"
   ]
  },
  {
   "cell_type": "code",
   "execution_count": 44,
   "metadata": {},
   "outputs": [
    {
     "name": "stdout",
     "output_type": "stream",
     "text": [
      "[1, 2, 3, 4, 5]\n"
     ]
    }
   ],
   "source": [
    "print(lista)"
   ]
  },
  {
   "cell_type": "code",
   "execution_count": 45,
   "metadata": {},
   "outputs": [],
   "source": [
    "del(lista)"
   ]
  },
  {
   "cell_type": "code",
   "execution_count": 47,
   "metadata": {},
   "outputs": [],
   "source": [
    "fichero.seek(0)\n",
    "lista = pickle.load(fichero)"
   ]
  },
  {
   "cell_type": "code",
   "execution_count": 49,
   "metadata": {},
   "outputs": [
    {
     "name": "stdout",
     "output_type": "stream",
     "text": [
      "[1, 2, 3, 4, 5]\n"
     ]
    }
   ],
   "source": [
    "print(lista)"
   ]
  },
  {
   "cell_type": "code",
   "execution_count": 50,
   "metadata": {},
   "outputs": [],
   "source": [
    "fichero.close()\n",
    "del(fichero)"
   ]
  },
  {
   "cell_type": "code",
   "execution_count": 53,
   "metadata": {},
   "outputs": [
    {
     "name": "stdout",
     "output_type": "stream",
     "text": [
      "[<__main__.Persona object at 0x7fcee04fe470>, <__main__.Persona object at 0x7fcee04fe6a0>, <__main__.Persona object at 0x7fcee04fe828>]\n"
     ]
    }
   ],
   "source": [
    "class Persona:\n",
    "    def __init__(self, nombre):\n",
    "        self.nombre = nombre\n",
    "        \n",
    "    def __str__(self):\n",
    "        return self.nombre\n",
    "    \n",
    "nombres = [ \n",
    "    \"hector\",\n",
    "    \"mario\",\n",
    "    \"martha\"\n",
    "]    \n",
    "personas = []\n",
    "for n in nombres:\n",
    "    p = Persona(n)\n",
    "    personas.append(p)\n",
    "print(personas)    "
   ]
  },
  {
   "cell_type": "code",
   "execution_count": 55,
   "metadata": {},
   "outputs": [],
   "source": [
    "fichero = open(\"personas.pckl\",\"wb\")\n",
    "pickle.dump(personas,fichero)"
   ]
  },
  {
   "cell_type": "code",
   "execution_count": 58,
   "metadata": {},
   "outputs": [],
   "source": [
    "fichero = open(\"personas.pckl\",\"wb\")\n",
    "pickle.dump(personas,fichero)\n",
    "fichero.close()\n",
    "del(fichero)"
   ]
  },
  {
   "cell_type": "code",
   "execution_count": 60,
   "metadata": {},
   "outputs": [],
   "source": [
    "fichero = open(\"personas.pckl\",\"rb\")\n",
    "\n",
    "personas  = pickle.load(fichero)\n",
    "fichero.close()\n",
    "del(fichero)\n"
   ]
  },
  {
   "cell_type": "code",
   "execution_count": 61,
   "metadata": {},
   "outputs": [
    {
     "name": "stdout",
     "output_type": "stream",
     "text": [
      "hector\n",
      "mario\n",
      "martha\n"
     ]
    }
   ],
   "source": [
    "for p in personas:\n",
    "    print(p)"
   ]
  },
  {
   "cell_type": "code",
   "execution_count": null,
   "metadata": {},
   "outputs": [],
   "source": []
  }
 ],
 "metadata": {
  "kernelspec": {
   "display_name": "Python 3",
   "language": "python",
   "name": "python3"
  },
  "language_info": {
   "codemirror_mode": {
    "name": "ipython",
    "version": 3
   },
   "file_extension": ".py",
   "mimetype": "text/x-python",
   "name": "python",
   "nbconvert_exporter": "python",
   "pygments_lexer": "ipython3",
   "version": "3.6.7"
  }
 },
 "nbformat": 4,
 "nbformat_minor": 2
}
